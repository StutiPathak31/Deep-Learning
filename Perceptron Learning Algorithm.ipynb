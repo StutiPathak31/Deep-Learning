{
 "cells": [
  {
   "cell_type": "markdown",
   "metadata": {},
   "source": [
    "# Perceptron Learning Algorithm"
   ]
  },
  {
   "cell_type": "markdown",
   "metadata": {},
   "source": [
    "##### Importing Numpy and Pandas library"
   ]
  },
  {
   "cell_type": "code",
   "execution_count": 9,
   "metadata": {},
   "outputs": [],
   "source": [
    "import numpy as np\n",
    "import pandas as pd"
   ]
  },
  {
   "cell_type": "markdown",
   "metadata": {},
   "source": [
    "##### Creation of Data Frame"
   ]
  },
  {
   "cell_type": "code",
   "execution_count": 12,
   "metadata": {},
   "outputs": [
    {
     "data": {
      "text/html": [
       "<div>\n",
       "<style scoped>\n",
       "    .dataframe tbody tr th:only-of-type {\n",
       "        vertical-align: middle;\n",
       "    }\n",
       "\n",
       "    .dataframe tbody tr th {\n",
       "        vertical-align: top;\n",
       "    }\n",
       "\n",
       "    .dataframe thead th {\n",
       "        text-align: right;\n",
       "    }\n",
       "</style>\n",
       "<table border=\"1\" class=\"dataframe\">\n",
       "  <thead>\n",
       "    <tr style=\"text-align: right;\">\n",
       "      <th></th>\n",
       "      <th>INDEX</th>\n",
       "      <th>POINTS</th>\n",
       "      <th>CLASS</th>\n",
       "    </tr>\n",
       "  </thead>\n",
       "  <tbody>\n",
       "    <tr>\n",
       "      <th>0</th>\n",
       "      <td>n</td>\n",
       "      <td>[1, 0, 0, 0]</td>\n",
       "      <td>0</td>\n",
       "    </tr>\n",
       "    <tr>\n",
       "      <th>1</th>\n",
       "      <td>p</td>\n",
       "      <td>[1, 0, 0, 1]</td>\n",
       "      <td>1</td>\n",
       "    </tr>\n",
       "    <tr>\n",
       "      <th>2</th>\n",
       "      <td>p</td>\n",
       "      <td>[1, 0, 1, 0]</td>\n",
       "      <td>1</td>\n",
       "    </tr>\n",
       "    <tr>\n",
       "      <th>3</th>\n",
       "      <td>p</td>\n",
       "      <td>[1, 0, 1, 1]</td>\n",
       "      <td>1</td>\n",
       "    </tr>\n",
       "    <tr>\n",
       "      <th>4</th>\n",
       "      <td>p</td>\n",
       "      <td>[1, 1, 0, 0]</td>\n",
       "      <td>1</td>\n",
       "    </tr>\n",
       "    <tr>\n",
       "      <th>5</th>\n",
       "      <td>p</td>\n",
       "      <td>[1, 1, 0, 1]</td>\n",
       "      <td>1</td>\n",
       "    </tr>\n",
       "    <tr>\n",
       "      <th>6</th>\n",
       "      <td>p</td>\n",
       "      <td>[1, 1, 1, 0]</td>\n",
       "      <td>1</td>\n",
       "    </tr>\n",
       "    <tr>\n",
       "      <th>7</th>\n",
       "      <td>p</td>\n",
       "      <td>[1, 1, 1, 1]</td>\n",
       "      <td>1</td>\n",
       "    </tr>\n",
       "  </tbody>\n",
       "</table>\n",
       "</div>"
      ],
      "text/plain": [
       "  INDEX        POINTS  CLASS\n",
       "0     n  [1, 0, 0, 0]      0\n",
       "1     p  [1, 0, 0, 1]      1\n",
       "2     p  [1, 0, 1, 0]      1\n",
       "3     p  [1, 0, 1, 1]      1\n",
       "4     p  [1, 1, 0, 0]      1\n",
       "5     p  [1, 1, 0, 1]      1\n",
       "6     p  [1, 1, 1, 0]      1\n",
       "7     p  [1, 1, 1, 1]      1"
      ]
     },
     "execution_count": 12,
     "metadata": {},
     "output_type": "execute_result"
    }
   ],
   "source": [
    "index =np.asarray(['n','p','p','p','p','p','p','p'])\n",
    "points = np.asarray([[1,0,0,0],\n",
    "          [1,0,0,1],\n",
    "          [1,0,1,0],\n",
    "          [1,0,1,1],\n",
    "          [1,1,0,0],\n",
    "          [1,1,0,1],\n",
    "          [1,1,1,0],\n",
    "          [1,1,1,1]] )\n",
    "Class = np.asarray([0,1,1,1,1,1,1,1])\n",
    "\n",
    "joined=list(zip(index,points,Class))\n",
    "data=pd.DataFrame(joined,columns=['INDEX','POINTS','CLASS'])\n",
    "data"
   ]
  },
  {
   "cell_type": "markdown",
   "metadata": {},
   "source": [
    "##### Perceptron learning algorithm"
   ]
  },
  {
   "cell_type": "code",
   "execution_count": 13,
   "metadata": {},
   "outputs": [],
   "source": [
    "def do_Perceptron_Learning():\n",
    "    #P= inputs with label 1\n",
    "    #N= inputs with label 0\n",
    "    w=np.asarray([0,0,-1,2])\n",
    "    convergence=1\n",
    "    while convergence:\n",
    "        update=0\n",
    "        \n",
    "        for x in range(0,8):\n",
    "            X=np.asarray(points[x])\n",
    "            if index[x]=='p' and np.dot(X,w)<0:\n",
    "                w=w+X\n",
    "                update+=1\n",
    "            if index[x]=='n' and np.dot(X,w)>=0:\n",
    "                w=w-X\n",
    "                update+=1\n",
    "                \n",
    "        # If no updation occured that means we have reached convergence         \n",
    "        if update==0:\n",
    "            convergence=0\n",
    "        \n",
    "    print(\"Final Weight is: \",w)\n",
    "    "
   ]
  },
  {
   "cell_type": "code",
   "execution_count": 4,
   "metadata": {},
   "outputs": [
    {
     "name": "stdout",
     "output_type": "stream",
     "text": [
      "Final Weight is:  [-1  1  1  2]\n"
     ]
    }
   ],
   "source": [
    "if __name__==\"__main__\":\n",
    "    do_Perceptron_Learning()"
   ]
  },
  {
   "cell_type": "code",
   "execution_count": null,
   "metadata": {},
   "outputs": [],
   "source": []
  }
 ],
 "metadata": {
  "kernelspec": {
   "display_name": "Python 3",
   "language": "python",
   "name": "python3"
  },
  "language_info": {
   "codemirror_mode": {
    "name": "ipython",
    "version": 3
   },
   "file_extension": ".py",
   "mimetype": "text/x-python",
   "name": "python",
   "nbconvert_exporter": "python",
   "pygments_lexer": "ipython3",
   "version": "3.6.4"
  }
 },
 "nbformat": 4,
 "nbformat_minor": 2
}
