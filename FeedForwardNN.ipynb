{
 "cells": [
  {
   "cell_type": "markdown",
   "metadata": {},
   "source": [
    "## Investigation of softmax function"
   ]
  },
  {
   "cell_type": "code",
   "execution_count": 8,
   "metadata": {},
   "outputs": [
    {
     "name": "stdout",
     "output_type": "stream",
     "text": [
      "1.0\n",
      "[0.07122983 0.2613634  0.23649138 0.43091539]\n"
     ]
    }
   ],
   "source": [
    "import numpy as np\n",
    "\n",
    "k=1\n",
    "a=np.asarray([1.2,2.5,2.4,3])\n",
    "b=np.exp(k*a)\n",
    "b=b/np.sum(b)\n",
    "print(np.sum(b))\n",
    "print(b)\n"
   ]
  },
  {
   "cell_type": "markdown",
   "metadata": {},
   "source": [
    "## First Feed Forward Neural Network"
   ]
  },
  {
   "cell_type": "markdown",
   "metadata": {},
   "source": [
    "Consider the feed forward neural network which has one input layer, two hidden layers and one output layer. The input x to this network belongs to R<sup>3</sup> and the number of neurons in the two hidden layers and the output layer is 4,3,5 respectively. Each layer is fully connected to the next layer. Also, every neuron in the hidden layers and output layers has bias connected to it.\n",
    "\n",
    "The activation function used in the two hidden layers is logistic function and output function is the softmax function. \n",
    "\n",
    "Suppose all weights in the layer 1 are 0.05, in layer 2 are 0.025 and layer 3 are 1.0.\n",
    "\n",
    "Produce the output given x=[1.5, 2.5, 3]"
   ]
  },
  {
   "cell_type": "code",
   "execution_count": 11,
   "metadata": {},
   "outputs": [
    {
     "name": "stdout",
     "output_type": "stream",
     "text": [
      "[0.13239166 0.16999425 0.22946824 0.18787271 0.28027314]\n"
     ]
    }
   ],
   "source": [
    "import numpy as np\n",
    "import math\n",
    "\n",
    "def logistic(x):\n",
    "    return 1/(1+np.exp(-x))\n",
    "\n",
    "def softmax(x):\n",
    "    a=np.exp(x)\n",
    "    a=a/np.sum(a)\n",
    "    return a\n",
    "\n",
    "W1=np.full((3,4),0.05)\n",
    "W2=np.full((4,3),0.025)\n",
    "W3=np.full((3,5),1.0)\n",
    "\n",
    "b1=np.asarray([0.1,0.2,0.3,0.4])\n",
    "b2=np.asarray([5.2,3.2,4.3])\n",
    "b3=np.asarray([0.2,0.45,0.75,0.55,0.95])\n",
    "\n",
    "x=[1.5,2.5,3]\n",
    "\n",
    "a1=np.matmul(x,W1)+b1\n",
    "h1=logistic(a1)\n",
    "\n",
    "a2=np.matmul(h1,W2)+b2\n",
    "h2=logistic(a2)\n",
    "\n",
    "a3=np.matmul(h2,W3)+b3\n",
    "o=softmax(a3)\n",
    "print(o)"
   ]
  },
  {
   "cell_type": "code",
   "execution_count": null,
   "metadata": {},
   "outputs": [],
   "source": []
  }
 ],
 "metadata": {
  "kernelspec": {
   "display_name": "Python 3",
   "language": "python",
   "name": "python3"
  },
  "language_info": {
   "codemirror_mode": {
    "name": "ipython",
    "version": 3
   },
   "file_extension": ".py",
   "mimetype": "text/x-python",
   "name": "python",
   "nbconvert_exporter": "python",
   "pygments_lexer": "ipython3",
   "version": "3.6.4"
  }
 },
 "nbformat": 4,
 "nbformat_minor": 2
}
