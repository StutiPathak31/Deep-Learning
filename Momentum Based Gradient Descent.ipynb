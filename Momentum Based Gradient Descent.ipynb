{
 "cells": [
  {
   "cell_type": "markdown",
   "metadata": {},
   "source": [
    "#                              Momentum Based Gradient Descent"
   ]
  },
  {
   "cell_type": "markdown",
   "metadata": {},
   "source": [
    "## Implementation of Momentum Based Gradient Descent Algorithm on a toy 2-D dataset which consists of 40 data points."
   ]
  },
  {
   "cell_type": "code",
   "execution_count": 1,
   "metadata": {},
   "outputs": [],
   "source": [
    "import pandas as pd\n",
    "import numpy as np"
   ]
  },
  {
   "cell_type": "code",
   "execution_count": 2,
   "metadata": {},
   "outputs": [],
   "source": [
    "def f(w,b,x):\n",
    "    return 1.0/(1.0+np.exp(-(w*x+b)))"
   ]
  },
  {
   "cell_type": "code",
   "execution_count": 3,
   "metadata": {},
   "outputs": [],
   "source": [
    "def grad_b(w,b,x,y):\n",
    "    fx=f(w,b,x)\n",
    "    return (fx-y)*fx*(1-fx)"
   ]
  },
  {
   "cell_type": "code",
   "execution_count": 4,
   "metadata": {},
   "outputs": [],
   "source": [
    "def grad_w(w,b,x,y):\n",
    "    fx=f(w,b,x)\n",
    "    return (fx-y)*fx*(1-fx)*x"
   ]
  },
  {
   "cell_type": "markdown",
   "metadata": {},
   "source": [
    "#### Using the squared error loss function to compute error \n",
    "\n",
    "\\begin{align}\n",
    "loss & = \\frac{1}{2} * (y' - y)^2\n",
    "\\end{align}\n"
   ]
  },
  {
   "cell_type": "code",
   "execution_count": 5,
   "metadata": {},
   "outputs": [],
   "source": [
    "def error(w,b):# calculate loss/error\n",
    "    err=0.0\n",
    "    for x,y in zip(X,Y):\n",
    "        fx = f(w,b,x)\n",
    "        err += 0.5*(fx-y)**2\n",
    "    return err"
   ]
  },
  {
   "cell_type": "code",
   "execution_count": 6,
   "metadata": {},
   "outputs": [],
   "source": [
    "def do_momentum_gradient_descent(X,Y,init_w,init_b,max_epochs):\n",
    "    w, b, eta = init_w, init_b, 1.0\n",
    "    prev_v_w, prev_v_b, gamma = 0, 0, 0.9\n",
    "    for i in range(max_epochs):\n",
    "        dw, db = 0,0\n",
    "        for x,y in zip(X,Y):\n",
    "            dw += grad_w(w,b,x,y)\n",
    "            db += grad_b(w,b,x,y)\n",
    "            \n",
    "        v_w = gamma * prev_v_w + eta* dw\n",
    "        v_b = gamma * prev_v_b + eta* db\n",
    "        w = w - v_w\n",
    "        b = b - v_b\n",
    "        prev_v_w = v_w\n",
    "        prev_v_b = v_b\n",
    "        print(\"Epoch{}: Loss={}\".format(i,error(w,b)))\n",
    "    \n",
    "    return w,b"
   ]
  },
  {
   "cell_type": "markdown",
   "metadata": {},
   "source": [
    "##### Comparing with Gradient Descent Algorithm of 100 iterations, Momentum based Gradient Algorithm produces better results in 10 iterations."
   ]
  },
  {
   "cell_type": "code",
   "execution_count": 7,
   "metadata": {},
   "outputs": [
    {
     "name": "stdout",
     "output_type": "stream",
     "text": [
      "Epoch0: Loss=0.025154357598516662\n",
      "Epoch1: Loss=0.005742165827785046\n",
      "Epoch2: Loss=0.004429526156669953\n",
      "Epoch3: Loss=0.009321023932759602\n",
      "Epoch4: Loss=0.014098841123542628\n",
      "Epoch5: Loss=0.01675413689732964\n",
      "Epoch6: Loss=0.017207092096132772\n",
      "Epoch7: Loss=0.01607726583922297\n",
      "Epoch8: Loss=0.01412132787692757\n",
      "Epoch9: Loss=0.011963769844975991\n",
      "Error=0.011963769844975991\n"
     ]
    }
   ],
   "source": [
    "if __name__==\"__main__\":\n",
    "    filename='A2_Q4_data.csv'\n",
    "    df=pd.read_csv(filename)\n",
    "    X=df['X']\n",
    "    Y=df['Y']\n",
    "    initial_w=1\n",
    "    initial_b=1\n",
    "    max_epochs=10\n",
    "    w,b=do_momentum_gradient_descent(X,Y,initial_w,initial_b,max_epochs)\n",
    "    error=error(w,b)\n",
    "    print(\"Error={}\".format(error))"
   ]
  },
  {
   "cell_type": "code",
   "execution_count": null,
   "metadata": {},
   "outputs": [],
   "source": []
  },
  {
   "cell_type": "code",
   "execution_count": null,
   "metadata": {},
   "outputs": [],
   "source": []
  }
 ],
 "metadata": {
  "kernelspec": {
   "display_name": "Python 3",
   "language": "python",
   "name": "python3"
  },
  "language_info": {
   "codemirror_mode": {
    "name": "ipython",
    "version": 3
   },
   "file_extension": ".py",
   "mimetype": "text/x-python",
   "name": "python",
   "nbconvert_exporter": "python",
   "pygments_lexer": "ipython3",
   "version": "3.6.4"
  }
 },
 "nbformat": 4,
 "nbformat_minor": 2
}
